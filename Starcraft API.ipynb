{
 "cells": [
  {
   "attachments": {},
   "cell_type": "markdown",
   "metadata": {},
   "source": [
    "# StarCraft2 API\n",
    "In this notebook, I try to learn how to request and get data through a simple API, so that I can later use it for more interesting proyects."
   ]
  },
  {
   "cell_type": "code",
   "execution_count": 2,
   "metadata": {},
   "outputs": [],
   "source": [
    "import requests\n",
    "import random\n",
    "import webbrowser\n",
    "import os"
   ]
  },
  {
   "attachments": {},
   "cell_type": "markdown",
   "metadata": {},
   "source": [
    "## Authorization Code Flow\n",
    "The OAuth 2.0 Authorization Code Flow allows an application to access a user's data on their behalf. This allows an application to acquire more sensitive, opt-in information about a user, such as their list of World of Warcraft characters, after obtaining the user's permission to do so. The Authorization Code Flow has two major parts: the authorization code request and the access token request."
   ]
  },
  {
   "cell_type": "code",
   "execution_count": 3,
   "metadata": {},
   "outputs": [],
   "source": [
    "client_id = \"dd6f63be804d421c831a3dd91fef2ad1\"\n",
    "client_secret = \"7CUufebLm57dwJ7KhbslZYdE9WW477Ve\"\n",
    "my_redirect_uri = 'https://jjapcr.blogspot.com/'"
   ]
  },
  {
   "attachments": {},
   "cell_type": "markdown",
   "metadata": {},
   "source": [
    "### Authorization Request\n",
    "This authorization request is according to: "
   ]
  },
  {
   "cell_type": "code",
   "execution_count": 4,
   "metadata": {},
   "outputs": [],
   "source": [
    "auth_code_request = 'http://{}.battle.net/oauth/authorize?client_id={}&redirect_uri={}&response_type={}&scope={}'.format(\"us\", client_id, my_redirect_uri, \"code\", \"sc2.profile\")\n",
    "response = requests.get(auth_code_request)\n",
    "htmltext = response.text"
   ]
  },
  {
   "attachments": {},
   "cell_type": "markdown",
   "metadata": {},
   "source": [
    "Now that we have the html as a txt file, we convert it to a html file and open it using a module called webbrowser"
   ]
  },
  {
   "cell_type": "code",
   "execution_count": 6,
   "metadata": {},
   "outputs": [
    {
     "data": {
      "text/plain": [
       "True"
      ]
     },
     "execution_count": 6,
     "metadata": {},
     "output_type": "execute_result"
    }
   ],
   "source": [
    "f = open('Auth.html', \"w\")\n",
    "f.write(htmltext)\n",
    "f.close\n",
    "filename = 'file:///' + os.getcwd() + '/'+'Auth.html'\n",
    "webbrowser.open_new_tab(filename)\n"
   ]
  },
  {
   "cell_type": "code",
   "execution_count": 117,
   "metadata": {},
   "outputs": [
    {
     "data": {
      "text/plain": [
       "'\\n\\n\\n<!DOCTYPE html>\\n<html xmlns=\"http://www.w3.org/1999/xhtml\" xml:lang=\"en-us\" class=\"en-us bnet-next\" >\\n<head xmlns:og=\"http://ogp.me/ns#\" xmlns:fb=\"http://ogp.me/ns/fb#\">\\n<meta http-equiv=\"imagetoolbar\" content=\"false\" />\\r\\n<meta http-equiv=\"X-UA-Compatible\" content=\"IE=edge,chrome=1\" />\\r\\n<title>Battle.net Login</title>\\n<link rel=\"apple-touch-icon\" sizes=\"57x57\" href=\"/login/static/images/toolkit/themes/bnet-next/meta/apple-icon-57x57.png\">\\n<link rel=\"apple-touch-icon\" sizes=\"60x60\" href=\"/login/static/images/toolkit/themes/bnet-next/meta/apple-icon-60x60.png\">\\n<link rel=\"apple-touch-icon\" sizes=\"72x72\" href=\"/login/static/images/toolkit/themes/bnet-next/meta/apple-icon-72x72.png\">\\n<link rel=\"apple-touch-icon\" sizes=\"76x76\" href=\"/login/static/images/toolkit/themes/bnet-next/meta/apple-icon-76x76.png\">\\n<link rel=\"apple-touch-icon\" sizes=\"114x114\" href=\"/login/static/images/toolkit/themes/bnet-next/meta/apple-icon-114x114.png\">\\n<link rel=\"apple-touch-icon\" sizes=\"120x120\" href=\"/login/static/images/toolkit/themes/bnet-next/meta/apple-icon-120x120.png\">\\n<link rel=\"apple-touch-icon\" sizes=\"144x144\" href=\"/login/static/images/toolkit/themes/bnet-next/meta/apple-icon-144x144.png\">\\n<link rel=\"apple-touch-icon\" sizes=\"152x152\" href=\"/login/static/images/toolkit/themes/bnet-next/meta/apple-icon-152x152.png\">\\n<link rel=\"apple-touch-icon\" sizes=\"180x180\" href=\"/login/static/images/toolkit/themes/bnet-next/meta/apple-touch-icon.png\">\\n<link rel=\"icon\" type=\"image/png\" sizes=\"192x192\" href=\"/login/static/images/toolkit/themes/bnet-next/meta/android-icon-192x192.png\">\\n<link rel=\"icon\" type=\"image/png\" sizes=\"16x16\" href=\"/login/static/images/toolkit/themes/bnet-next/meta/favicon-16x16.png\">\\n<link rel=\"icon\" type=\"image/png\" sizes=\"32x32\" href=\"/login/static/images/toolkit/themes/bnet-next/meta/favicon-32x32.png\">\\n<link rel=\"icon\" type=\"image/png\" sizes=\"96x96\" href=\"/login/static/images/toolkit/themes/bnet-next/meta/favicon-96x96.png\">\\n<link rel=\"mask-icon\" href=\"/login/static/images/toolkit/themes/bnet-next/meta/safari-pinned-tab.svg\" color=\"#148eff\">\\n<meta name=\"msapplication-TileColor\" content=\"#1c1e26\">\\n<meta name=\"msapplication-TileImage\" content=\"/login/static/images/toolkit/themes/bnet-next/meta/ms-icon-150x150.png\">\\n<meta name=\"theme-color\" content=\"#1c1e26\">\\n<script nonce=\"EyMtCJja1j\" type=\"text/javascript\">\\nvar BlzCookieConsent = {\\nhost: \\'battle.net\\',\\nonetrustScriptUrl: \\'\\',\\nonetrustDomainScript: \\'\\',\\nwhitelistedCookies: [\\'\\']\\n}\\n</script>\\n<script src=\"//bnetaccount.akamaized.net/login/static/js/gdpr/cookie-consent-filter.0JIl8.js\" type=\"text/javascript\" defer></script>\\n<!--[if gt IE 8]><!--><link rel=\"stylesheet\" type=\"text/css\" media=\"all\" href=\"//bnetaccount.akamaized.net/login/static/css/toolkit/bnet-next-web.3G8Tg.css\" /><!-- <![endif]-->\\r\\n<!--[if IE 8]><link rel=\"stylesheet\" type=\"text/css\" media=\"all\" href=\"/login/static/css/toolkit/bnet-next-web-ie8.css?v=58-1\" /><![endif]-->\\r\\n<link rel=\"stylesheet\" type=\"text/css\" media=\"all\" href=\"//bnetaccount.akamaized.net/login/static/css/login/global.2gN6F.css?v=1\" />\\n<link rel=\"stylesheet\" type=\"text/css\" media=\"all\" href=\"//bnetaccount.akamaized.net/login/static/css/nav-client/nav-client.26C4w.css\" />\\n<link rel=\"stylesheet\" type=\"text/css\" media=\"(max-width:800px)\" href=\"//bnetaccount.akamaized.net/login/static/css/nav-client/nav-client-responsive.2L8V6.css\" />\\n<!--[if IE 8]>\\n<link rel=\"stylesheet\" type=\"text/css\" media=\"all\" href=\"//bnetaccount.akamaized.net/login/static/css/login/ie8.3AZrx.css\" />\\n<![endif]-->\\n<link rel=\"search\" type=\"application/opensearchdescription+xml\" href=\"https://us.battle.net/en-us/data/opensearch\" title=\"\" />\\r\\n<script type=\"text/javascript\" src=\"//bnetaccount.akamaized.net/login/static/js/third-party/jquery.4Zl4x.js?v=58-1\"></script>\\n<script type=\"text/javascript\" src=\"//bnetaccount.akamaized.net/login/static/js/toolkit/toolkit.0r0f1.js?v=58-1\"></script>\\n<script type=\"text/javascript\" src=\"//bnetaccount.akamaized.net/login/static/js/core.2Xqd1.js?v=58-1\"></script>\\n<meta name=\"viewport\" content=\"width=device-width\" />\\r\\n</head>\\n<body class = \"us en-us login-template oauth web bnet-next tk-bnet-next ce-standalone-browser \"\\ndata-embedded-state = \"STATE_LOGIN\"\\ndata-baseUrl = \"/login/en\"\\ndata-cdnUrl = \"//akamai-http.web.blizzard.net/content\"\\ndata-staticUrl = \"/login/static\"\\ndata-sharedStaticUrl = \"/login/static/local-common\"\\ndata-secureSupportUrl = \"https://us.battle.net/support/\"\\ndata-project = \"login\"\\ndata-projectUrl = \"/login\"\\ndata-locale = \"en-us\"\\ndata-language = \"en\"\\ndata-region = \"us\"\\ndata-loggedIn = \"false\"\\ndata-userAgent = \"web\"\\ndata-client-environment = \"standalone-browser\"\\ndata-autofocus-enabled = \"true\"\\ndata-tagManagerAccount = \"GTM-589KTQ\"\\ndata-gtmDataLayer = \"[{\\'userAgent\\':\\'web\\',\\'analyticsRequestUri\\':\\'/login/en/\\',\\'theme\\':\\'bnet-next\\',\\'errorCode\\':\\'\\',\\'state\\':\\'STATE_LOGIN\\'}]\"\\ndata-nonce = \"EyMtCJja1j\"\\ndata-srp-script-url = \"//bnetaccount.akamaized.net/login/static/js/login/0.srp6a-routines.worker.1PBfF.js\"\\ndata-pw-v2-worker-url = \"//bnetaccount.akamaized.net/login/static/js/login/upgrade-verifier.worker.39zo7.js\"\\ndata-v2-password-js = \"//bnetaccount.akamaized.net/login/static/js/login/account-password.0702N.js\"\\ndata-scrollbar = \"false\"\\ndata-network-error-message=\"Please check your network connection and try again.\" >\\n<script nonce=\"EyMtCJja1j\" type=\"text/javascript\">\\n\"use strict\";\\n!function(r){var t=\"/login/error-report\";function o(e,n,r){void 0!==n[r]&&(e[r]=n[r])}function a(){var e,n;return{system:function(){var e={};e.clientTimeMillis=Date.now();var n=r.navigator;return o(e,n,\"oscpu\"),o(e,n,\"hardwareConcurrency\"),o(e,n,\"deviceMemory\"),e}(),network:(e={},void 0!==(n=r.navigator.connection)&&(o(e,n,\"downlink\"),o(e,n,\"downlinkMax\"),o(e,n,\"effectiveType\"),o(e,n,\"rtt\"),o(e,n,\"type\")),e),browser:function(){var e={};o(e,r&&r.location,\"href\"),o(e,window,\"devicePixelRatio\"),o(e,window,\"innerHeight\"),o(e,window,\"innerWidth\");var n=r.navigator;return o(e,n,\"platform\"),o(e,n,\"userAgent\"),o(e,n,\"language\"),o(e,n,\"cookieEnabled\"),e}()}}function e(e,n,r,o,i){i={message:e,source:n,lineno:r,colno:o,stack:(void 0===(o=i)?{}:o).stack};o={environment:a(),error:i},(i=new XMLHttpRequest).open(\"POST\",t),i.setRequestHeader(\"Content-Type\",\"application/json\"),i.setRequestHeader(\"Accept\",\"application/json\"),i.addEventListener(\"error\",function(e){console.error(\"An error occurred while sending an error-report. Error: \"+e)}),i.send(JSON.stringify(o))}void 0!==r?(r.onerror=e,r.errorReporter={global:e}):console.error(\\'Unable to bind onError listener as \"window\" was undefined.\\')}(window,document);\\n</script>\\n<script type=\"text/javascript\" src=\"//bnetaccount.akamaized.net/login/static/js/login/analytics.0HTGj.js?v=58-1\"></script>\\n<div class=\"grid-container wrapper\">\\n<div class=\"box-wrapper \">\\n<div class=\"box-wrapper-inner\">\\n<h1 class=\"logo \">Battle.net Login</h1>\\n<div class=\"hide\" id=\"info-wrapper\">\\n<h2><strong class=\"info-title\"></strong></h2>\\n<p class=\"info-body\"></p>\\n<button class=\"btn btn-block hide visible-phone\" id=\"info-phone-close\">Close</button>\\n</div>\\n<div class=\"input\" id=\"login-wrapper\">\\n<div class=\"login\">\\n<form\\naction=\"\"\\nmethod=\"post\"\\nid=\"password-form\"\\nnovalidate=\"novalidate\"\\nclass=\"\\nusername-required\\ninput-focus\\nform-with-captcha\"\\n>\\n<div id=\"login-input-container\" class=\"\">\\n<div\\nid=\"js-errors\"\\nclass=\"alert alert-error alert-icon hide\"\\nrole=\"alert\"\\naria-relevant=\"additions removals\"\\ndata-support-aria=\"Go to error support link, external link.\"\\n>\\n<p id=\"cookie-check\" class=\"hide\">Your browser&#39;s cookies are disabled. Please reenable cookies to continue.</p>\\n</div>\\n<noscript>\\n<div id=\"javascript-disabled\" class=\"alert alert-error alert-icon\">\\n</div>\\n</noscript>\\n<div class=\"control-group \">\\n<label id=\"accountName-label\" class=\"control-label\"\\nfor=\"accountName\">Email or Phone</label>\\n<div class=\"controls\">\\n<input\\nid=\"accountName\"\\naria-label=\"Email or phone field, enter email address or phone number\"\\nname=\"accountName\"\\ntitle=\"Email or Phone\"\\nmaxlength=\"320\"\\ntype=\"text\"\\ntabindex=\"0\"\\nclass=\"input-block \"\\nplaceholder=\"Email or Phone\"\\nautocorrect=\"off\"\\nspellcheck=\"false\"\\n/>\\n<span class=\"input-after\"></span>\\n<span class=\"error-helper error-helper-accountName hide\">\\n</span>\\n</div>\\n</div>\\n<div class=\"control-group \">\\n<label id=\"password-label\" class=\"control-label\"\\nfor=\"password\">Password</label>\\n<div class=\"controls\">\\n<input\\nid=\"password\"\\naria-label=\"Password field, enter password\"\\nname=\"password\"\\ntitle=\"Password\"\\nmaxlength=\"128\"\\ntype=\"password\"\\ntabindex=\"0\"\\nclass=\"input-block \"\\nautocomplete=\"off\"\\nplaceholder=\"Password\"\\nautocorrect=\"off\"\\nspellcheck=\"false\"\\ndata-password-show-aria=\"Show Password\" data-password-hide-aria=\"Hide Password\"\\n/>\\n<span class=\"input-after\"></span>\\n<span class=\"error-helper error-helper-password hide\">\\n</span>\\n</div>\\n</div>\\n<input type=\"hidden\" id=\"srpEnabled\" name=\"srpEnabled\" value=\"true\" />\\n<input type=\"hidden\" id=\"upgradeVerifier\" name=\"upgradeVerifier\" value=\"\" />\\n<input type=\"hidden\" id=\"useSrp\" name=\"useSrp\" value=\"false\" />\\n<input type=\"hidden\" id=\"publicA\" name=\"publicA\" value=\"\" />\\n<input type=\"hidden\" id=\"clientEvidenceM1\" name=\"clientEvidenceM1\" value=\"\" />\\n<div class=\"persistWrapper\">\\n<label id=\"persistLogin-label\" class=\"checkbox-label css-label hide\" for=\"persistLogin\">\\n<input\\naria-labelledby=\"persistLogin-label\"\\nid=\"persistLogin\"\\nname=\"persistLogin\"\\ntype=\"checkbox\"\\nchecked=\"checked\"\\ntabindex=\"0\"\\n/>\\n<span class=\"input-checkbox\"></span>\\nKeep me logged in\\n</label>\\n</div>\\n</div>\\n<div class=\"control-group submit no-cancel\">\\n<button\\ntype=\"submit\"\\nid=\"submit\"\\nclass=\"btn-block btn btn-primary submit-button btn-block \"\\ndata-loading-text=\"\"\\ntabindex=\"0\"\\naria-label=\"Log in\"\\n>\\nLog In\\n<i class=\"spinner-battlenet\"></i>\\n</button>\\n</div>\\n<input type=\"hidden\" id=\"csrftoken\" class=\"csrftoken\" name=\"csrftoken\" value=\"6e8f2c12-d52d-4bc2-828c-3b1effad8f5a\" />\\r\\n<input type=\"hidden\" id=\"sessionTimeout\" name=\"sessionTimeout\" value=\"1674151090882\"/>\\n</form>\\n<div class=\"thirdparty-line\">\\n<span>Or log in with</span>\\n</div>\\n<div class=\"useResponse social-login external-login-container\">\\n<form method=\"post\" action=\"/login/signin/facebook\" id=\"facebookLogin\" class=\"class org.apache.maven.project.MavenProject\" enctype=\"\"\\n>\\n<button\\nid=\"facebook\"\\nrole=\"row\"\\nclass=\"btn btn-block third-party-login social-icon login-facebook\"\\nrel=\"external\"\\naria-label=\"Log in with Facebook\"\\ntabindex=\"0\"\\n>\\n<i class=\"icon-facebook\"></i>\\n</button>\\n<input type=\"hidden\" name=\"scope\" value=\"public_profile,email,user_friends\" />\\n<input type=\"hidden\" name=\"ref\" value=\"https://oauth.battle.net/oauth/authorize?client_id%3Ddd6f63be804d421c831a3dd91fef2ad1%26redirect_uri%3Dhttps://jjapcr.blogspot.com/%26response_type%3Dcode%26scope%3Dsc2.profile\" />\\n<input type=\"hidden\" name=\"app\" value=\"oauth\" />\\n<input type=\"hidden\" name=\"scheme\" value=\"\" />\\n<input type=\"hidden\" id=\"csrftoken-facebookLogin\" class=\"csrftoken\" name=\"csrftoken\" value=\"6e8f2c12-d52d-4bc2-828c-3b1effad8f5a\" />\\r\\n</form>\\n<form method=\"post\" action=\"/login/signin/google\" id=\"googleLogin\" class=\"class org.apache.maven.project.MavenProject\" enctype=\"\"\\n>\\n<button\\nid=\"google\"\\nrole=\"row\"\\nclass=\"btn btn-block third-party-login social-icon login-google\"\\nrel=\"external\"\\naria-label=\"Log in with Google\"\\ntabindex=\"0\"\\n>\\n<i class=\"icon-google\"></i>\\n</button>\\n<input type=\"hidden\" name=\"scope\" value=\"openid,profile,email\" />\\n<input type=\"hidden\" name=\"ref\" value=\"https://oauth.battle.net/oauth/authorize?client_id%3Ddd6f63be804d421c831a3dd91fef2ad1%26redirect_uri%3Dhttps://jjapcr.blogspot.com/%26response_type%3Dcode%26scope%3Dsc2.profile\" />\\n<input type=\"hidden\" name=\"app\" value=\"oauth\" />\\n<input type=\"hidden\" name=\"scheme\" value=\"\" />\\n<input type=\"hidden\" id=\"csrftoken-googleLogin\" class=\"csrftoken\" name=\"csrftoken\" value=\"6e8f2c12-d52d-4bc2-828c-3b1effad8f5a\" />\\r\\n</form>\\n<form method=\"post\" action=\"/login/signin/apple\" id=\"appleLogin\" class=\"class org.apache.maven.project.MavenProject\" enctype=\"\"\\n>\\n<button\\nid=\"apple\"\\nrole=\"row\"\\nclass=\"btn btn-block third-party-login social-icon login-apple\"\\nrel=\"external\"\\naria-label=\"Log in with Apple\"\\ntabindex=\"0\"\\n>\\n<i class=\"icon-apple\"></i>\\n</button>\\n<input type=\"hidden\" name=\"scope\" value=\"email,name\" />\\n<input type=\"hidden\" name=\"ref\" value=\"https://oauth.battle.net/oauth/authorize?client_id%3Ddd6f63be804d421c831a3dd91fef2ad1%26redirect_uri%3Dhttps://jjapcr.blogspot.com/%26response_type%3Dcode%26scope%3Dsc2.profile\" />\\n<input type=\"hidden\" name=\"app\" value=\"oauth\" />\\n<input type=\"hidden\" name=\"scheme\" value=\"\" />\\n<input type=\"hidden\" id=\"csrftoken-appleLogin\" class=\"csrftoken\" name=\"csrftoken\" value=\"6e8f2c12-d52d-4bc2-828c-3b1effad8f5a\" />\\r\\n</form>\\n</div>\\n<ul id=\"help-links\" role=\"navigation\">\\n<li role=\"link\">\\n<a rel=\"internal\"\\nhref=\"https://account.battle.net/creation/?ref=https://oauth.battle.net/oauth/authorize?client_id%3Ddd6f63be804d421c831a3dd91fef2ad1%26redirect_uri%3Dhttps://jjapcr.blogspot.com/%26response_type%3Dcode%26scope%3Dsc2.profile&amp;theme=bnet-next&amp;app=oauth\"\\ntabindex=\"0\"\\nid=\"signup\"\\nrole=\"button\"\\n>\\nCreate a free Battle.net Account\\n</a>\\n</li>\\n<li role=\"link\">\\n<a rel=\"internal\"\\ntarget=\"_blank\"\\nhref=\"https://account.battle.net/recovery/?ref=&amp;theme=bnet-next&amp;app=oauth\"\\ntabindex=\"0\"\\nid=\"loginSupport\"\\nrole=\"button\"\\n>\\nCan&#39;t log in?\\n</a>\\n</li>\\n</ul>\\n</div>\\n</div>\\n</div>\\n</div>\\n<img src=\"//bnetaccount.akamaized.net/login/static/images/toolkit/themes/bnet/icons/sprite-24-red.0PPlX.png\" class=\"hide\" />\\n<img src=\"//bnetaccount.akamaized.net/login/static/images/toolkit/themes/bnet/spinners/spinner-battlenet.1IdwV.png\" class=\"hide\" />\\n<footer id=\"footer\" class=\"footer en-us\">\\n<div id=\"nav-client-footer\" class=\"nav-client\">\\n<div class=\"mobileFooterEnabled footer-content footer-desktop grid-container\"> <div class=\"nav-section support-feedback\">\\r\\n<div class=\"nav-left\">\\n<div id=\"nav-feedback\">\\n</div>\\n</div>\\n</div>\\r\\n<div class=\"nav-section\">\\r\\n<div class=\"nav-left nav-logo-group\">\\n<div class=\"footer-links nav-left\">\\n<a class=\"nav-item nav-a\" href=\"https://www.blizzard.com/company/legal/eula\" data-analytics=\"global-nav\" data-analytics-placement=\"Footer - eula\">Battle.net EULA</a>\\r\\n<span>|</span>\\n<a class=\"nav-item nav-a\" href=\"https://www.blizzard.com/company/about/privacy.html\" data-analytics=\"global-nav\" data-analytics-placement=\"Footer - Privacy\">Privacy</a>\\r\\n<span>|</span>\\n<a class=\"nav-item nav-a\" href=\"https://www.blizzard.com/company/legal/\" data-analytics=\"global-nav\" data-analytics-placement=\"Footer - Terms\">Terms</a>\\r\\n<span>|</span>\\n<a class=\"nav-item nav-a\" href=\"https://us.blizzard.com/company/about/infringementnotice.html\" data-analytics=\"global-nav\" data-analytics-placement=\"Footer - copyright\">Copyright Infringement</a>\\r\\n<span>|</span>\\n<a class=\"nav-item nav-a\" href=\"/login/cookies\" data-analytics=\"global-nav\" data-analytics-placement=\"Footer - Cookies\">Cookies</a>\\r\\n<span>|</span>\\n<a class=\"nav-item nav-a\" href=\"/login/cookies#settings\" data-analytics=\"global-nav\" data-analytics-placement=\"Footer - Cookie Settings\">Cookie Settings</a>\\r\\n<div class=\"copyright\">©2023 Blizzard Entertainment, Inc. All rights reserved.</div>\\n<div class=\"nav-footer-icon-container\">\\n<ul class=\"nav-footer-icon-list\">\\n</ul>\\n</div>\\n</div>\\n</div>\\n<div class=\"nav-ratings\">\\n</div>\\n</div>\\r\\n</div>\\n<div class=\"mobileFooterEnabled footer-content footer-mobile grid-container\"> <div class=\"nav-logo-group\">\\n<div class=\"footer-links\">\\n<a class=\"nav-item nav-a\" href=\"https://www.blizzard.com/company/legal/eula\" data-analytics=\"global-nav\" data-analytics-placement=\"Footer - eula\">Battle.net EULA</a>\\r\\n<span>|</span>\\n<a class=\"nav-item nav-a\" href=\"https://www.blizzard.com/company/about/privacy.html\" data-analytics=\"global-nav\" data-analytics-placement=\"Footer - Privacy\">Privacy</a>\\r\\n<span>|</span>\\n<a class=\"nav-item nav-a\" href=\"https://www.blizzard.com/company/legal/\" data-analytics=\"global-nav\" data-analytics-placement=\"Footer - Terms\">Terms</a>\\r\\n<span>|</span>\\n<a class=\"nav-item nav-a\" href=\"https://us.blizzard.com/company/about/infringementnotice.html\" data-analytics=\"global-nav\" data-analytics-placement=\"Footer - copyright\">Copyright Infringement</a>\\r\\n<span>|</span>\\n<a class=\"nav-item nav-a\" href=\"/login/cookies\" data-analytics=\"global-nav\" data-analytics-placement=\"Footer - Cookies\">Cookies</a>\\r\\n<span>|</span>\\n<a class=\"nav-item nav-a\" href=\"/login/cookies#settings\" data-analytics=\"global-nav\" data-analytics-placement=\"Footer - Cookie Settings\">Cookie Settings</a>\\r\\n</div>\\n<div class=\"copyright\">©2023 Blizzard Entertainment, Inc. All rights reserved.</div>\\n<div class=\"nav-footer-icon-container\">\\n<ul class=\"nav-footer-icon-list\">\\n</ul>\\n</div>\\n<div class=\"nav-ratings\">\\n</div>\\n</div>\\n</div>\\n</div>\\n</footer> </div>\\n<script type=\"text/javascript\" src=\"//bnetaccount.akamaized.net/login/static/js/embedded-javascript/embed.0LR2R.js?v=58-1\"></script>\\n<script type=\"text/javascript\" src=\"//bnetaccount.akamaized.net/login/static/js/login/srp-client.4X4Jb.js?v=1\"></script>\\n<script type=\"text/javascript\" src=\"//bnetaccount.akamaized.net/login/static/js/toolkit/toolkit-password.2roF6.js?v=1\"></script>\\n<script type=\"text/javascript\" src=\"//bnetaccount.akamaized.net/login/static/js/login/global.2pXbb.js\"></script>\\n<script type=\"text/javascript\" src=\"//bnetaccount.akamaized.net/login/static/js/login/login.3Tqx9.js\"></script>\\n</body>\\n</html>'"
      ]
     },
     "execution_count": 117,
     "metadata": {},
     "output_type": "execute_result"
    }
   ],
   "source": [
    "response.text"
   ]
  },
  {
   "cell_type": "code",
   "execution_count": null,
   "metadata": {},
   "outputs": [],
   "source": [
    "# import requests\n",
    "# import random\n",
    "\n",
    "# def create_authorization_code(client_id, redirect_uri):\n",
    "#     data = {\n",
    "#         'region' : 'us',\n",
    "#         'response_type' : 'code', \n",
    "#         'client_id' : client_id,\n",
    "#         'redirect_uri' : redirect_uri,\n",
    "#         'state' : random.random(), #I don't know if this is right\n",
    "#         'scope' : '', #What is scope? I want access to all my own profile data\n",
    "#         'state' : '' #I also have no idea if this is optional or not\n",
    "#         }\n",
    "    \n",
    "#     response = requests.get('https://us.battle.net/oauth/authorize', data=data)\n",
    "#     return response.json()\n",
    "\n",
    "# response = create_authorization_code(client_id, redirect_uri=my_redirect_uri)\n",
    "# print(response)\n",
    "\n",
    "#access_token = response[\"authorization_code\"]"
   ]
  },
  {
   "attachments": {},
   "cell_type": "markdown",
   "metadata": {},
   "source": [
    "First we get the Access Token"
   ]
  },
  {
   "cell_type": "code",
   "execution_count": 84,
   "metadata": {},
   "outputs": [
    {
     "name": "stdout",
     "output_type": "stream",
     "text": [
      "{'access_token': 'USIpYnokbEZfMjEmAvOSGjpfFptJO2dMa1', 'token_type': 'bearer', 'expires_in': 86399, 'sub': 'dd6f63be804d421c831a3dd91fef2ad1'}\n"
     ]
    },
    {
     "ename": "KeyError",
     "evalue": "'authorization_code'",
     "output_type": "error",
     "traceback": [
      "\u001b[1;31m---------------------------------------------------------------------------\u001b[0m",
      "\u001b[1;31mKeyError\u001b[0m                                  Traceback (most recent call last)",
      "\u001b[1;32m~\\AppData\\Local\\Temp\\ipykernel_1012\\3810824859.py\u001b[0m in \u001b[0;36m<module>\u001b[1;34m\u001b[0m\n\u001b[0;32m     16\u001b[0m \u001b[0mprint\u001b[0m\u001b[1;33m(\u001b[0m\u001b[0mresponse\u001b[0m\u001b[1;33m)\u001b[0m\u001b[1;33m\u001b[0m\u001b[1;33m\u001b[0m\u001b[0m\n\u001b[0;32m     17\u001b[0m \u001b[1;33m\u001b[0m\u001b[0m\n\u001b[1;32m---> 18\u001b[1;33m \u001b[0maccess_token\u001b[0m \u001b[1;33m=\u001b[0m \u001b[0mresponse\u001b[0m\u001b[1;33m[\u001b[0m\u001b[1;34m\"authorization_code\"\u001b[0m\u001b[1;33m]\u001b[0m\u001b[1;33m\u001b[0m\u001b[1;33m\u001b[0m\u001b[0m\n\u001b[0m",
      "\u001b[1;31mKeyError\u001b[0m: 'authorization_code'"
     ]
    }
   ],
   "source": [
    "# Taken from this github response \n",
    "# https://stackoverflow.com/questions/61179753/is-there-a-python-script-to-generate-blizzard-api-access-token\n",
    "\n",
    "def create_access_token(client_id, client_secret, region = 'us'):\n",
    "    data = {'grant_type': 'client_credentials', \n",
    "            'redirect_uri' : 'https://jjapcr.blogspot.com/',\n",
    "            'code' : '47376352' }\n",
    "    response = requests.post('https://%s.battle.net/oauth/token' % region, data=data, auth=(client_id, client_secret))\n",
    "    return response.json()\n",
    "\n",
    "response = create_access_token(client_id,client_secret)\n",
    "print(response)\n",
    "\n",
    "access_token = response[\"authorization_code\"]"
   ]
  },
  {
   "attachments": {},
   "cell_type": "markdown",
   "metadata": {},
   "source": [
    "Next we get the User Info (Header)"
   ]
  },
  {
   "cell_type": "code",
   "execution_count": 38,
   "metadata": {},
   "outputs": [
    {
     "data": {
      "text/plain": [
       "'USIpYnokbEZfMjEmAvOSGjpfFptJO2dMa1'"
      ]
     },
     "execution_count": 38,
     "metadata": {},
     "output_type": "execute_result"
    }
   ],
   "source": [
    "access_token "
   ]
  },
  {
   "cell_type": "code",
   "execution_count": 83,
   "metadata": {},
   "outputs": [
    {
     "ename": "JSONDecodeError",
     "evalue": "Expecting value: line 1 column 1 (char 0)",
     "output_type": "error",
     "traceback": [
      "\u001b[1;31m---------------------------------------------------------------------------\u001b[0m",
      "\u001b[1;31mJSONDecodeError\u001b[0m                           Traceback (most recent call last)",
      "\u001b[1;32mc:\\Users\\XPC\\anaconda3\\lib\\site-packages\\requests\\models.py\u001b[0m in \u001b[0;36mjson\u001b[1;34m(self, **kwargs)\u001b[0m\n\u001b[0;32m    970\u001b[0m         \u001b[1;32mtry\u001b[0m\u001b[1;33m:\u001b[0m\u001b[1;33m\u001b[0m\u001b[1;33m\u001b[0m\u001b[0m\n\u001b[1;32m--> 971\u001b[1;33m             \u001b[1;32mreturn\u001b[0m \u001b[0mcomplexjson\u001b[0m\u001b[1;33m.\u001b[0m\u001b[0mloads\u001b[0m\u001b[1;33m(\u001b[0m\u001b[0mself\u001b[0m\u001b[1;33m.\u001b[0m\u001b[0mtext\u001b[0m\u001b[1;33m,\u001b[0m \u001b[1;33m**\u001b[0m\u001b[0mkwargs\u001b[0m\u001b[1;33m)\u001b[0m\u001b[1;33m\u001b[0m\u001b[1;33m\u001b[0m\u001b[0m\n\u001b[0m\u001b[0;32m    972\u001b[0m         \u001b[1;32mexcept\u001b[0m \u001b[0mJSONDecodeError\u001b[0m \u001b[1;32mas\u001b[0m \u001b[0me\u001b[0m\u001b[1;33m:\u001b[0m\u001b[1;33m\u001b[0m\u001b[1;33m\u001b[0m\u001b[0m\n",
      "\u001b[1;32mc:\\Users\\XPC\\anaconda3\\lib\\json\\__init__.py\u001b[0m in \u001b[0;36mloads\u001b[1;34m(s, cls, object_hook, parse_float, parse_int, parse_constant, object_pairs_hook, **kw)\u001b[0m\n\u001b[0;32m    345\u001b[0m             parse_constant is None and object_pairs_hook is None and not kw):\n\u001b[1;32m--> 346\u001b[1;33m         \u001b[1;32mreturn\u001b[0m \u001b[0m_default_decoder\u001b[0m\u001b[1;33m.\u001b[0m\u001b[0mdecode\u001b[0m\u001b[1;33m(\u001b[0m\u001b[0ms\u001b[0m\u001b[1;33m)\u001b[0m\u001b[1;33m\u001b[0m\u001b[1;33m\u001b[0m\u001b[0m\n\u001b[0m\u001b[0;32m    347\u001b[0m     \u001b[1;32mif\u001b[0m \u001b[0mcls\u001b[0m \u001b[1;32mis\u001b[0m \u001b[1;32mNone\u001b[0m\u001b[1;33m:\u001b[0m\u001b[1;33m\u001b[0m\u001b[1;33m\u001b[0m\u001b[0m\n",
      "\u001b[1;32mc:\\Users\\XPC\\anaconda3\\lib\\json\\decoder.py\u001b[0m in \u001b[0;36mdecode\u001b[1;34m(self, s, _w)\u001b[0m\n\u001b[0;32m    336\u001b[0m         \"\"\"\n\u001b[1;32m--> 337\u001b[1;33m         \u001b[0mobj\u001b[0m\u001b[1;33m,\u001b[0m \u001b[0mend\u001b[0m \u001b[1;33m=\u001b[0m \u001b[0mself\u001b[0m\u001b[1;33m.\u001b[0m\u001b[0mraw_decode\u001b[0m\u001b[1;33m(\u001b[0m\u001b[0ms\u001b[0m\u001b[1;33m,\u001b[0m \u001b[0midx\u001b[0m\u001b[1;33m=\u001b[0m\u001b[0m_w\u001b[0m\u001b[1;33m(\u001b[0m\u001b[0ms\u001b[0m\u001b[1;33m,\u001b[0m \u001b[1;36m0\u001b[0m\u001b[1;33m)\u001b[0m\u001b[1;33m.\u001b[0m\u001b[0mend\u001b[0m\u001b[1;33m(\u001b[0m\u001b[1;33m)\u001b[0m\u001b[1;33m)\u001b[0m\u001b[1;33m\u001b[0m\u001b[1;33m\u001b[0m\u001b[0m\n\u001b[0m\u001b[0;32m    338\u001b[0m         \u001b[0mend\u001b[0m \u001b[1;33m=\u001b[0m \u001b[0m_w\u001b[0m\u001b[1;33m(\u001b[0m\u001b[0ms\u001b[0m\u001b[1;33m,\u001b[0m \u001b[0mend\u001b[0m\u001b[1;33m)\u001b[0m\u001b[1;33m.\u001b[0m\u001b[0mend\u001b[0m\u001b[1;33m(\u001b[0m\u001b[1;33m)\u001b[0m\u001b[1;33m\u001b[0m\u001b[1;33m\u001b[0m\u001b[0m\n",
      "\u001b[1;32mc:\\Users\\XPC\\anaconda3\\lib\\json\\decoder.py\u001b[0m in \u001b[0;36mraw_decode\u001b[1;34m(self, s, idx)\u001b[0m\n\u001b[0;32m    354\u001b[0m         \u001b[1;32mexcept\u001b[0m \u001b[0mStopIteration\u001b[0m \u001b[1;32mas\u001b[0m \u001b[0merr\u001b[0m\u001b[1;33m:\u001b[0m\u001b[1;33m\u001b[0m\u001b[1;33m\u001b[0m\u001b[0m\n\u001b[1;32m--> 355\u001b[1;33m             \u001b[1;32mraise\u001b[0m \u001b[0mJSONDecodeError\u001b[0m\u001b[1;33m(\u001b[0m\u001b[1;34m\"Expecting value\"\u001b[0m\u001b[1;33m,\u001b[0m \u001b[0ms\u001b[0m\u001b[1;33m,\u001b[0m \u001b[0merr\u001b[0m\u001b[1;33m.\u001b[0m\u001b[0mvalue\u001b[0m\u001b[1;33m)\u001b[0m \u001b[1;32mfrom\u001b[0m \u001b[1;32mNone\u001b[0m\u001b[1;33m\u001b[0m\u001b[1;33m\u001b[0m\u001b[0m\n\u001b[0m\u001b[0;32m    356\u001b[0m         \u001b[1;32mreturn\u001b[0m \u001b[0mobj\u001b[0m\u001b[1;33m,\u001b[0m \u001b[0mend\u001b[0m\u001b[1;33m\u001b[0m\u001b[1;33m\u001b[0m\u001b[0m\n",
      "\u001b[1;31mJSONDecodeError\u001b[0m: Expecting value: line 1 column 1 (char 0)",
      "\nDuring handling of the above exception, another exception occurred:\n",
      "\u001b[1;31mJSONDecodeError\u001b[0m                           Traceback (most recent call last)",
      "\u001b[1;32m~\\AppData\\Local\\Temp\\ipykernel_1012\\1045516640.py\u001b[0m in \u001b[0;36m<module>\u001b[1;34m\u001b[0m\n\u001b[0;32m      4\u001b[0m     \u001b[1;32mreturn\u001b[0m \u001b[0mresponse\u001b[0m\u001b[1;33m.\u001b[0m\u001b[0mjson\u001b[0m\u001b[1;33m(\u001b[0m\u001b[1;33m)\u001b[0m\u001b[1;33m\u001b[0m\u001b[1;33m\u001b[0m\u001b[0m\n\u001b[0;32m      5\u001b[0m \u001b[1;33m\u001b[0m\u001b[0m\n\u001b[1;32m----> 6\u001b[1;33m \u001b[0mgetBattleTag\u001b[0m\u001b[1;33m(\u001b[0m\u001b[0maccess_token\u001b[0m\u001b[1;33m,\u001b[0m \u001b[1;34m\"us\"\u001b[0m\u001b[1;33m)\u001b[0m\u001b[1;33m\u001b[0m\u001b[1;33m\u001b[0m\u001b[0m\n\u001b[0m",
      "\u001b[1;32m~\\AppData\\Local\\Temp\\ipykernel_1012\\1045516640.py\u001b[0m in \u001b[0;36mgetBattleTag\u001b[1;34m(BattleNetToken, region)\u001b[0m\n\u001b[0;32m      2\u001b[0m     \u001b[0murl\u001b[0m \u001b[1;33m=\u001b[0m \u001b[1;34mf\"https://{region}.battle.net/oauth/userinfo?access_token={BattleNetToken}\"\u001b[0m\u001b[1;33m\u001b[0m\u001b[1;33m\u001b[0m\u001b[0m\n\u001b[0;32m      3\u001b[0m     \u001b[0mresponse\u001b[0m \u001b[1;33m=\u001b[0m \u001b[0mrequests\u001b[0m\u001b[1;33m.\u001b[0m\u001b[0mget\u001b[0m\u001b[1;33m(\u001b[0m\u001b[0murl\u001b[0m\u001b[1;33m)\u001b[0m\u001b[1;33m\u001b[0m\u001b[1;33m\u001b[0m\u001b[0m\n\u001b[1;32m----> 4\u001b[1;33m     \u001b[1;32mreturn\u001b[0m \u001b[0mresponse\u001b[0m\u001b[1;33m.\u001b[0m\u001b[0mjson\u001b[0m\u001b[1;33m(\u001b[0m\u001b[1;33m)\u001b[0m\u001b[1;33m\u001b[0m\u001b[1;33m\u001b[0m\u001b[0m\n\u001b[0m\u001b[0;32m      5\u001b[0m \u001b[1;33m\u001b[0m\u001b[0m\n\u001b[0;32m      6\u001b[0m \u001b[0mgetBattleTag\u001b[0m\u001b[1;33m(\u001b[0m\u001b[0maccess_token\u001b[0m\u001b[1;33m,\u001b[0m \u001b[1;34m\"us\"\u001b[0m\u001b[1;33m)\u001b[0m\u001b[1;33m\u001b[0m\u001b[1;33m\u001b[0m\u001b[0m\n",
      "\u001b[1;32mc:\\Users\\XPC\\anaconda3\\lib\\site-packages\\requests\\models.py\u001b[0m in \u001b[0;36mjson\u001b[1;34m(self, **kwargs)\u001b[0m\n\u001b[0;32m    973\u001b[0m             \u001b[1;31m# Catch JSON-related errors and raise as requests.JSONDecodeError\u001b[0m\u001b[1;33m\u001b[0m\u001b[1;33m\u001b[0m\u001b[0m\n\u001b[0;32m    974\u001b[0m             \u001b[1;31m# This aliases json.JSONDecodeError and simplejson.JSONDecodeError\u001b[0m\u001b[1;33m\u001b[0m\u001b[1;33m\u001b[0m\u001b[0m\n\u001b[1;32m--> 975\u001b[1;33m             \u001b[1;32mraise\u001b[0m \u001b[0mRequestsJSONDecodeError\u001b[0m\u001b[1;33m(\u001b[0m\u001b[0me\u001b[0m\u001b[1;33m.\u001b[0m\u001b[0mmsg\u001b[0m\u001b[1;33m,\u001b[0m \u001b[0me\u001b[0m\u001b[1;33m.\u001b[0m\u001b[0mdoc\u001b[0m\u001b[1;33m,\u001b[0m \u001b[0me\u001b[0m\u001b[1;33m.\u001b[0m\u001b[0mpos\u001b[0m\u001b[1;33m)\u001b[0m\u001b[1;33m\u001b[0m\u001b[1;33m\u001b[0m\u001b[0m\n\u001b[0m\u001b[0;32m    976\u001b[0m \u001b[1;33m\u001b[0m\u001b[0m\n\u001b[0;32m    977\u001b[0m     \u001b[1;33m@\u001b[0m\u001b[0mproperty\u001b[0m\u001b[1;33m\u001b[0m\u001b[1;33m\u001b[0m\u001b[0m\n",
      "\u001b[1;31mJSONDecodeError\u001b[0m: Expecting value: line 1 column 1 (char 0)"
     ]
    }
   ],
   "source": [
    "def getBattleTag(BattleNetToken, region):\n",
    "    url = f\"https://{region}.battle.net/oauth/userinfo?access_token={BattleNetToken}\"\n",
    "    response = requests.get(url)\n",
    "    return response.json()\n",
    "\n",
    "getBattleTag(access_token, \"us\")"
   ]
  }
 ],
 "metadata": {
  "kernelspec": {
   "display_name": "base",
   "language": "python",
   "name": "python3"
  },
  "language_info": {
   "codemirror_mode": {
    "name": "ipython",
    "version": 3
   },
   "file_extension": ".py",
   "mimetype": "text/x-python",
   "name": "python",
   "nbconvert_exporter": "python",
   "pygments_lexer": "ipython3",
   "version": "3.9.15 (main, Nov 24 2022, 14:39:17) [MSC v.1916 64 bit (AMD64)]"
  },
  "orig_nbformat": 4,
  "vscode": {
   "interpreter": {
    "hash": "5db20e6b6544bef3223c6fee36e7cf17f383763e52191370d8bdafdcda1cbf86"
   }
  }
 },
 "nbformat": 4,
 "nbformat_minor": 2
}
